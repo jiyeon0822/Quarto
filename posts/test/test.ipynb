{
 "cells": [
  {
   "cell_type": "raw",
   "metadata": {},
   "source": [
    "---\n",
    "title: \"jupyter notebook\"\n",
    "author: \"jiyeon\"\n",
    "date: \"2024-03-07\"\n",
    "categories: [test]\n",
    "notebook-links: false\n",
    "format:\n",
    "  html:\n",
    "    self-contained: true\n",
    "    echo: false\n",
    "    toc: false\n",
    "jupyter: python3\n",
    "---"
   ]
  },
  {
   "cell_type": "markdown",
   "metadata": {},
   "source": [
    "ddddd"
   ]
  }
 ],
 "metadata": {
  "language_info": {
   "name": "python"
  }
 },
 "nbformat": 4,
 "nbformat_minor": 2
}
